{
  "nbformat": 4,
  "nbformat_minor": 0,
  "metadata": {
    "colab": {
      "provenance": [],
      "authorship_tag": "ABX9TyN3bjCJXwIOuK2JKh3CBdli",
      "include_colab_link": true
    },
    "kernelspec": {
      "name": "python3",
      "display_name": "Python 3"
    },
    "language_info": {
      "name": "python"
    }
  },
  "cells": [
    {
      "cell_type": "markdown",
      "metadata": {
        "id": "view-in-github",
        "colab_type": "text"
      },
      "source": [
        "<a href=\"https://colab.research.google.com/github/luisa988/pyton3/blob/main/LLZS_PY_ACT3.ipynb\" target=\"_parent\"><img src=\"https://colab.research.google.com/assets/colab-badge.svg\" alt=\"Open In Colab\"/></a>"
      ]
    },
    {
      "cell_type": "markdown",
      "source": [
        "Nombre: Luisa Zerega.\n",
        "\n",
        "Materia: Python.\n",
        "\n",
        "Actividad 3\n",
        "\n",
        "Matricula: 356491"
      ],
      "metadata": {
        "id": "RZY9VzIh9kZl"
      }
    },
    {
      "cell_type": "markdown",
      "source": [
        "Descripcion: Algoritmo que lea 3 calificaciones calcule el promedio del alumno"
      ],
      "metadata": {
        "id": "IfeAnUKU9w6A"
      }
    },
    {
      "cell_type": "code",
      "execution_count": null,
      "metadata": {
        "colab": {
          "base_uri": "https://localhost:8080/"
        },
        "id": "YSbF_JEG9gUq",
        "outputId": "4a2c64f3-c13b-4327-d2df-375ac3bdc689"
      },
      "outputs": [
        {
          "output_type": "stream",
          "name": "stdout",
          "text": [
            "Ingresa la primera calificacion: 100\n",
            "Ingresa la segunda calificacion: 100\n",
            "Ingresa la tercera calificacion: 100\n",
            "El promedio de las 3 calificaciones es:  100.0\n",
            "Exelente :D \n"
          ]
        }
      ],
      "source": [
        "  Calif1 = float(input(\"Ingresa la primera calificacion: \"))\n",
        "\n",
        "  Calif2 = float(input(\"Ingresa la segunda calificacion: \"))\n",
        "\n",
        "  Calif3 = float(input(\"Ingresa la tercera calificacion: \"))\n",
        "\n",
        "  promedio = (Calif1 + Calif2 + Calif3) / 3\n",
        "\n",
        "  print(\"El promedio de las 3 calificaciones es: \",round(promedio,1))\n",
        "\n",
        "  if promedio < 30:\n",
        "    print(\"Repetir D: \")\n",
        "  elif promedio < 60:\n",
        "    print(\"Extraordinario :( \")\n",
        "  elif promedio < 70:\n",
        "    print(\"Suficiente :/ \")\n",
        "  elif promedio < 80:\n",
        "    print(\"Regular ._. \")\n",
        "  elif promedio < 90:\n",
        "    print(\"Bien :) \")\n",
        "  elif promedio < 95 :\n",
        "    print(\"Muy bien ^u^ \")\n",
        "  elif promedio <= 100:\n",
        "    print(\"Exelente :D \")\n",
        "  else:\n",
        "    promedio > 100\n",
        "    print(\"Error en promedio ._0\")\n",
        "\n",
        "\n",
        "\n",
        "\n",
        "\n",
        "\n",
        "\n",
        "\n",
        "\n"
      ]
    },
    {
      "cell_type": "markdown",
      "source": [
        "Descripcion:\n",
        "\n",
        "Algoritmo que sirva para calcular el salario semanal de un trabajador donde se obtiene como dato de entrada las horas semanales trabajadas, el salario por hora.\n",
        "\n",
        "El programa deberá calcular el salario normal, salario extra y salario total, considerando lo siguiente:\n",
        "\n",
        "Jornada Normal de 40 horas.\n",
        "El salario normal se considera las horas trabajadas menores o igual a la jornada normal\n",
        "Salario extra se considera las horas trabajadas mayores a la jornada normal y se pagan dobles las primeras 9 y triples a partir de la décima hora extra\n"
      ],
      "metadata": {
        "id": "RYoIlVtedCxX"
      }
    },
    {
      "cell_type": "code",
      "source": [
        "def calcular_salario_semanal(horas_trabajadas, salario_hora):\n",
        "    jornada_normal = 40\n",
        "    salario_normal = 0\n",
        "    salario_extra = 0\n",
        "    salario_total = 0\n",
        "\n",
        "    if horas_trabajadas <= jornada_normal:\n",
        "        salario_normal = horas_trabajadas * salario_hora\n",
        "    else:\n",
        "        horas_extra = horas_trabajadas - jornada_normal\n",
        "        if horas_extra <= 9:\n",
        "            salario_normal = jornada_normal * salario_hora\n",
        "            salario_extra = horas_extra * salario_hora * 2\n",
        "        else:\n",
        "            salario_normal = jornada_normal * salario_hora\n",
        "            salario_extra = 9 * salario_hora * 2 + (horas_extra - 9) * salario_hora * 3\n",
        "\n",
        "    salario_total = salario_normal + salario_extra\n",
        "\n",
        "    return salario_normal, salario_extra, salario_total\n",
        "\n",
        "horas_trabajadas = int(input(\"Ingrese las horas semanales trabajadas: \"))\n",
        "salario_hora = float(input(\"Ingrese el salario por hora: \"))\n",
        "\n",
        "salario_normal, salario_extra, salario_total = calcular_salario_semanal(horas_trabajadas, salario_hora)\n",
        "\n",
        "print(\"Salario normal: $\", salario_normal)\n",
        "print(\"Salario extra: $\", salario_extra)\n",
        "print(\"Salario total: $\", salario_total)\n"
      ],
      "metadata": {
        "id": "C3XmmGnwxgz3",
        "colab": {
          "base_uri": "https://localhost:8080/"
        },
        "outputId": "f24a889f-a08e-494d-ae7c-b97f025ea8f5"
      },
      "execution_count": 1,
      "outputs": [
        {
          "output_type": "stream",
          "name": "stdout",
          "text": [
            "Ingrese las horas semanales trabajadas: 41\n",
            "Ingrese el salario por hora: 500\n",
            "Salario normal: $ 20000.0\n",
            "Salario extra: $ 1000.0\n",
            "Salario total: $ 21000.0\n"
          ]
        }
      ]
    },
    {
      "cell_type": "markdown",
      "source": [
        "Descripcion:  Algoritmo que sirva para calcular el Total a pagar por consumo de agua, donde el dato de entrada son los M3 de agua consumidos, Tomar en cuenta que se cobra escalonada de la Siguiente manera:\n",
        "\n",
        "Rango1: 0 al 4 M3 $50 x facturación sin importar cuánto consumió en este rango\n",
        "\n",
        "Rango2: 5 a 15 M3 $8.00 x M3\n",
        "\n",
        "Rango3: 16 a 50 M3 $10.00 x M3\n",
        "\n",
        "Rango4: 51 M3 en adelante $11.00 x M3\n",
        "\n",
        "Nota: Desplegar SubTotal, Iva(16%), y Total a pagar.\n",
        "\n"
      ],
      "metadata": {
        "id": "Ksr4rUBaeCRb"
      }
    },
    {
      "cell_type": "code",
      "source": [
        "def calcular_costo_llamada(minutos, tipo_llamada):\n",
        "    subtotal = 0\n",
        "    iva = 0\n",
        "    total = 0\n",
        "\n",
        "    if tipo_llamada == 1:\n",
        "        subtotal = 3.00\n",
        "    elif tipo_llamada == 2:\n",
        "        if minutos <= 3:\n",
        "            subtotal = 7.00\n",
        "        else:\n",
        "            subtotal = 7.00 + (minutos - 3) * 2.00\n",
        "    elif tipo_llamada == 3:\n",
        "        if minutos <= 2:\n",
        "            subtotal = 9.00\n",
        "        else:\n",
        "            subtotal = 9.00 + (minutos - 2) * 4.00\n",
        "\n",
        "    iva = subtotal * 0.16\n",
        "    total = subtotal + iva\n",
        "\n",
        "    return subtotal, iva, total\n",
        "\n",
        "minutos = int(input(\"Ingrese los minutos de la llamada: \"))\n",
        "tipo_llamada = int(input(\"Ingrese el tipo de llamada (1: Local, 2: Nacional, 3: Internacional): \"))\n",
        "\n",
        "subtotal, iva, total = calcular_costo_llamada(minutos, tipo_llamada)\n",
        "\n",
        "print(\"Subtotal: $\", subtotal)\n",
        "print(\"IVA (16%): $\", iva)\n",
        "print(\"Total: $\", total)\n"
      ],
      "metadata": {
        "colab": {
          "base_uri": "https://localhost:8080/"
        },
        "id": "jvD73lBjeC8h",
        "outputId": "41e3f1e4-bfe5-4cf8-a737-3bbc7b485da0"
      },
      "execution_count": 2,
      "outputs": [
        {
          "output_type": "stream",
          "name": "stdout",
          "text": [
            "Ingrese los minutos de la llamada: 5\n",
            "Ingrese el tipo de llamada (1: Local, 2: Nacional, 3: Internacional): 1\n",
            "Subtotal: $ 3.0\n",
            "IVA (16%): $ 0.48\n",
            "Total: $ 3.48\n"
          ]
        }
      ]
    },
    {
      "cell_type": "markdown",
      "source": [
        "Descripcion: Algoritmo que sirva para el juego del CHINCHAMPU (Piedra, Papel, Tijera) para 1 jugador y la computadora, (usar condición anidada)\n",
        "\n",
        "\n",
        "\n"
      ],
      "metadata": {
        "id": "sTjjhB6ug8R-"
      }
    },
    {
      "cell_type": "code",
      "source": [
        "import random\n",
        "\n",
        "def jugar_chinchampu(jugador, computadora):\n",
        "    if jugador == computadora:\n",
        "        return \"Es un empate\"\n",
        "    elif jugador == \"piedra\":\n",
        "        if computadora == \"papel\":\n",
        "            return \"Gana la computadora\"\n",
        "        else:\n",
        "            return \"Gana el jugador\"\n",
        "    elif jugador == \"papel\":\n",
        "        if computadora == \"tijera\":\n",
        "            return \"Gana la computadora\"\n",
        "        else:\n",
        "            return \"Gana el jugador\"\n",
        "    elif jugador == \"tijera\":\n",
        "        if computadora == \"piedra\":\n",
        "            return \"Gana la computadora\"\n",
        "        else:\n",
        "            return \"Gana el jugador\"\n",
        "    else:\n",
        "        return \"Opción inválida\"\n",
        "\n",
        "def obtener_jugada_computadora():\n",
        "    opciones = [\"piedra\", \"papel\", \"tijera\"]\n",
        "    jugada_computadora = random.choice(opciones)\n",
        "    return jugada_computadora\n",
        "\n",
        "jugador = input(\"Elige tu jugada (piedra, papel, tijera): \")\n",
        "computadora = obtener_jugada_computadora()\n",
        "\n",
        "resultado = jugar_chinchampu(jugador, computadora)\n",
        "print(\"El resultado es:\", resultado)"
      ],
      "metadata": {
        "colab": {
          "base_uri": "https://localhost:8080/"
        },
        "id": "iuHYiLotg8fq",
        "outputId": "d299199c-feb1-43f2-c3a0-3bb87cef83b0"
      },
      "execution_count": 3,
      "outputs": [
        {
          "output_type": "stream",
          "name": "stdout",
          "text": [
            "Elige tu jugada (piedra, papel, tijera): piedra\n",
            "El resultado es: Es un empate\n"
          ]
        }
      ]
    },
    {
      "cell_type": "markdown",
      "source": [
        "Descripcion: Algoritmo que sirva para el juego del CHINCHAMPU (Piedra, Papel, Tijera) para 1 jugador y la computadora, (usar selección múltiple)\n",
        "\n"
      ],
      "metadata": {
        "id": "UXGHS2kZhq7P"
      }
    },
    {
      "cell_type": "code",
      "source": [
        "import random\n",
        "\n",
        "def jugar_chinchampu(jugador, computadora):\n",
        "    if jugador == computadora:\n",
        "        return \"Es un empate\"\n",
        "    elif jugador == \"piedra\" and computadora == \"tijera\":\n",
        "        return \"Gana el jugador\"\n",
        "    elif jugador == \"papel\" and computadora == \"piedra\":\n",
        "        return \"Gana el jugador\"\n",
        "    elif jugador == \"tijera\" and computadora == \"papel\":\n",
        "        return \"Gana el jugador\"\n",
        "    else:\n",
        "        return \"Gana la computadora\"\n",
        "\n",
        "def obtener_jugada_computadora():\n",
        "    opciones = [\"piedra\", \"papel\", \"tijera\"]\n",
        "    jugada_computadora = random.choice(opciones)\n",
        "    return jugada_computadora\n",
        "\n",
        "print(\"Bienvenido al juego Chinchampu (Piedra, Papel, Tijera)!\")\n",
        "print(\"1 - Piedra\")\n",
        "print(\"2 - Papel\")\n",
        "print(\"3 - Tijera\")\n",
        "\n",
        "jugador = input(\"Elige tu jugada (1, 2, 3): \")\n",
        "jugador = int(jugador)\n",
        "\n",
        "if jugador == 1:\n",
        "    jugador = \"piedra\"\n",
        "elif jugador == 2:\n",
        "    jugador = \"papel\"\n",
        "elif jugador == 3:\n",
        "    jugador = \"tijera\"\n",
        "else:\n",
        "    print(\"Opción inválida\")\n",
        "    exit()\n",
        "\n",
        "computadora = obtener_jugada_computadora()\n",
        "\n",
        "resultado = jugar_chinchampu(jugador, computadora)\n",
        "print(\"El resultado es:\", resultado)\n"
      ],
      "metadata": {
        "colab": {
          "base_uri": "https://localhost:8080/"
        },
        "id": "N53Pg_azhrKJ",
        "outputId": "2dc4380d-3a2c-4416-b85a-98cc02ce17a3"
      },
      "execution_count": 4,
      "outputs": [
        {
          "output_type": "stream",
          "name": "stdout",
          "text": [
            "Bienvenido al juego Chinchampu (Piedra, Papel, Tijera)!\n",
            "1 - Piedra\n",
            "2 - Papel\n",
            "3 - Tijera\n",
            "Elige tu jugada (1, 2, 3): 1\n",
            "El resultado es: Gana el jugador\n"
          ]
        }
      ]
    },
    {
      "cell_type": "markdown",
      "source": [
        "Descripcion: Una tienda de electrónica ofrece descuentos a sus clientes, dependiendo del tipo de producto que compren. Si el cliente compra una computadora, tiene un descuento del 5% en el precio de la computadora y un 10% de descuento en una impresora si la compra junto con la computadora. Si el cliente compra una televisión, tiene un descuento del 7% en el precio de la televisión y un 15% de descuento en una barra de sonido si la compra junto con la televisión. Si el cliente compra una consola de videojuegos, tiene un descuento del 10% en el precio de la consola y un 20% de descuento en un juego si lo compra junto con la consola. Escribe un programa que calcule el precio a pagar por un cliente, tomando en cuenta los descuentos correspondientes.\n",
        "\n"
      ],
      "metadata": {
        "id": "kIVxU2K0isN7"
      }
    },
    {
      "cell_type": "code",
      "source": [
        "def calcular_precio(cliente, producto):\n",
        "    precio = 0\n",
        "\n",
        "    if producto == \"computadora\":\n",
        "        precio += 1000\n",
        "        if cliente == \"impresora\":\n",
        "            precio += 100\n",
        "    elif producto == \"televisión\":\n",
        "        precio += 1500\n",
        "        if cliente == \"barra de sonido\":\n",
        "            precio += 200\n",
        "    elif producto == \"consola de videojuegos\":\n",
        "        precio += 500\n",
        "        if cliente == \"juego\":\n",
        "            precio += 50\n",
        "\n",
        "    return precio\n",
        "\n",
        "print(\"Bienvenido a la tienda de electrónica!\")\n",
        "print(\"Productos disponibles:\")\n",
        "print(\"1 - Computadora\")\n",
        "print(\"2 - Televisión\")\n",
        "print(\"3 - Consola de videojuegos\")\n",
        "\n",
        "opcion_producto = int(input(\"Seleccione el producto que desea comprar (1, 2, 3): \"))\n",
        "\n",
        "if opcion_producto == 1:\n",
        "    producto = \"computadora\"\n",
        "elif opcion_producto == 2:\n",
        "    producto = \"televisión\"\n",
        "elif opcion_producto == 3:\n",
        "    producto = \"consola de videojuegos\"\n",
        "else:\n",
        "    print(\"Opción inválida\")\n",
        "    exit()\n",
        "\n",
        "print(\"Descuentos disponibles:\")\n",
        "print(\"1 - Impresora\")\n",
        "print(\"2 - Barra de sonido\")\n",
        "print(\"3 - Juego\")\n",
        "\n",
        "opcion_descuento = int(input(\"Seleccione el descuento que desea aplicar (1, 2, 3): \"))\n",
        "\n",
        "if opcion_descuento == 1:\n",
        "    cliente = \"impresora\"\n",
        "elif opcion_descuento == 2:\n",
        "    cliente = \"barra de sonido\"\n",
        "elif opcion_descuento == 3:\n",
        "    cliente = \"juego\"\n",
        "else:\n",
        "    print(\"Opción inválida\")\n",
        "    exit()\n",
        "\n",
        "precio_total = calcular_precio(cliente, producto)\n",
        "print(\"El precio a pagar es:\", precio_total)\n"
      ],
      "metadata": {
        "colab": {
          "base_uri": "https://localhost:8080/"
        },
        "id": "50tkWCZCizjC",
        "outputId": "b713c354-eb84-4b33-ebb5-262d5505cd7c"
      },
      "execution_count": 5,
      "outputs": [
        {
          "output_type": "stream",
          "name": "stdout",
          "text": [
            "Bienvenido a la tienda de electrónica!\n",
            "Productos disponibles:\n",
            "1 - Computadora\n",
            "2 - Televisión\n",
            "3 - Consola de videojuegos\n",
            "Seleccione el producto que desea comprar (1, 2, 3): 1\n",
            "Descuentos disponibles:\n",
            "1 - Impresora\n",
            "2 - Barra de sonido\n",
            "3 - Juego\n",
            "Seleccione el descuento que desea aplicar (1, 2, 3): 1\n",
            "El precio a pagar es: 1100\n"
          ]
        }
      ]
    },
    {
      "cell_type": "markdown",
      "source": [
        "Descripcion: En una tienda de ropa, los precios de los productos cambian dependiendo de la temporada. Durante la temporada de verano, todos los productos tienen un descuento del 20%. Durante la temporada de invierno, los productos con etiqueta roja tienen un descuento del 30% y los productos con etiqueta verde tienen un descuento del 15%. Durante la temporada de primavera y otoño, los productos con etiqueta amarilla tienen un descuento del 10%. Escribe un programa que calcule el precio a pagar por un cliente, tomando en cuenta los descuentos correspondientes.\n",
        "\n"
      ],
      "metadata": {
        "id": "pEaHOp6Piy3m"
      }
    },
    {
      "cell_type": "code",
      "source": [
        "def calcular_precio(temporada, etiqueta, precio):\n",
        "    descuento = 0\n",
        "\n",
        "    if temporada == \"verano\":\n",
        "        descuento = 0.2\n",
        "    elif temporada == \"invierno\":\n",
        "        if etiqueta == \"roja\":\n",
        "            descuento = 0.3\n",
        "        elif etiqueta == \"verde\":\n",
        "            descuento = 0.15\n",
        "    elif temporada == \"primavera\" or temporada == \"otoño\":\n",
        "        if etiqueta == \"amarilla\":\n",
        "            descuento = 0.1\n",
        "\n",
        "    precio_descuento = precio - (precio * descuento)\n",
        "    return precio_descuento\n",
        "\n",
        "print(\"Bienvenido a la tienda de ropa!\")\n",
        "print(\"Temporadas disponibles:\")\n",
        "print(\"1 - Verano\")\n",
        "print(\"2 - Invierno\")\n",
        "print(\"3 - Primavera / Otoño\")\n",
        "\n",
        "opcion_temporada = int(input(\"Seleccione la temporada actual (1, 2, 3): \"))\n",
        "\n",
        "if opcion_temporada == 1:\n",
        "    temporada = \"verano\"\n",
        "elif opcion_temporada == 2:\n",
        "    temporada = \"invierno\"\n",
        "elif opcion_temporada == 3:\n",
        "    temporada = \"primavera / otoño\"\n",
        "else:\n",
        "    print(\"Opción inválida\")\n",
        "    exit()\n",
        "\n",
        "print(\"Etiquetas disponibles:\")\n",
        "print(\"1 - Roja\")\n",
        "print(\"2 - Verde\")\n",
        "print(\"3 - Amarilla\")\n",
        "\n",
        "opcion_etiqueta = int(input(\"Seleccione la etiqueta del producto (1, 2, 3): \"))\n",
        "\n",
        "if opcion_etiqueta == 1:\n",
        "    etiqueta = \"roja\"\n",
        "elif opcion_etiqueta == 2:\n",
        "    etiqueta = \"verde\"\n",
        "elif opcion_etiqueta == 3:\n",
        "    etiqueta = \"amarilla\"\n",
        "else:\n",
        "    print(\"Opción inválida\")\n",
        "    exit()\n",
        "\n",
        "precio = float(input(\"Ingrese el precio del producto: \"))\n",
        "\n",
        "precio_final = calcular_precio(temporada, etiqueta, precio)\n",
        "print(\"El precio a pagar es:\", precio_final)\n"
      ],
      "metadata": {
        "colab": {
          "base_uri": "https://localhost:8080/"
        },
        "id": "_r1AQJj1jc4B",
        "outputId": "c4fcda91-d861-4bef-d1eb-25b0831d422a"
      },
      "execution_count": 6,
      "outputs": [
        {
          "output_type": "stream",
          "name": "stdout",
          "text": [
            "Bienvenido a la tienda de ropa!\n",
            "Temporadas disponibles:\n",
            "1 - Verano\n",
            "2 - Invierno\n",
            "3 - Primavera / Otoño\n",
            "Seleccione la temporada actual (1, 2, 3): 1\n",
            "Etiquetas disponibles:\n",
            "1 - Roja\n",
            "2 - Verde\n",
            "3 - Amarilla\n",
            "Seleccione la etiqueta del producto (1, 2, 3): 2\n",
            "Ingrese el precio del producto: 500\n",
            "El precio a pagar es: 400.0\n"
          ]
        }
      ]
    },
    {
      "cell_type": "markdown",
      "source": [
        "Descripcion:  Un restaurante ofrece descuentos a sus clientes, dependiendo del día de la semana y del tipo de menú que pidan. Los lunes, los clientes que pidan el menú del día tienen un descuento del 10%. Los martes, los clientes que pidan el menú infantil tienen un descuento del 20%. Los miércoles, los clientes que pidan el menú vegetariano tienen un descuento del 15%. Los jueves, los clientes que pidan el menú del chef tienen un descuento del 5%. Los viernes, los clientes que pidan el menú del día tienen un descuento del 5%. Los sábados y domingos no hay descuentos. Escribe un programa que calcule el precio a pagar por un cliente, tomando en cuenta los descuentos correspondientes."
      ],
      "metadata": {
        "id": "uEMDy0MMjdQ4"
      }
    },
    {
      "cell_type": "code",
      "source": [
        "def calcular_precio(dia, menu, precio):\n",
        "    descuento = 0\n",
        "\n",
        "    if dia == \"lunes\" and menu == \"menu del día\":\n",
        "        descuento = 0.1\n",
        "    elif dia == \"martes\" and menu == \"menú infantil\":\n",
        "        descuento = 0.2\n",
        "    elif dia == \"miércoles\" and menu == \"menú vegetariano\":\n",
        "        descuento = 0.15\n",
        "    elif dia == \"jueves\" and menu == \"menú del chef\":\n",
        "        descuento = 0.05\n",
        "    elif dia == \"viernes\" and menu == \"menu del día\":\n",
        "        descuento = 0.05\n",
        "\n",
        "    precio_descuento = precio - (precio * descuento)\n",
        "    return precio_descuento\n",
        "\n",
        "print(\"Bienvenido al restaurante!\")\n",
        "print(\"Días disponibles:\")\n",
        "print(\"1 - Lunes\")\n",
        "print(\"2 - Martes\")\n",
        "print(\"3 - Miércoles\")\n",
        "print(\"4 - Jueves\")\n",
        "print(\"5 - Viernes\")\n",
        "print(\"6 - Sábado\")\n",
        "print(\"7 - Domingo\")\n",
        "\n",
        "opcion_dia = int(input(\"Seleccione el día de la semana (1-7): \"))\n",
        "\n",
        "if opcion_dia < 1 or opcion_dia > 7:\n",
        "    print(\"Opción inválida\")\n",
        "    exit()\n",
        "\n",
        "if opcion_dia == 6 or opcion_dia == 7:\n",
        "    print(\"No hay descuentos los sábados y domingos.\")\n",
        "    exit()\n",
        "\n",
        "print(\"Menús disponibles:\")\n",
        "print(\"1 - Menú del día\")\n",
        "print(\"2 - Menú infantil\")\n",
        "print(\"3 - Menú vegetariano\")\n",
        "print(\"4 - Menú del chef\")\n",
        "\n",
        "opcion_menu = int(input(\"Seleccione el tipo de menú (1-4): \"))\n",
        "\n",
        "if opcion_menu < 1 or opcion_menu > 4:\n",
        "    print(\"Opción inválida\")\n",
        "    exit()\n",
        "\n",
        "precio = float(input(\"Ingrese el precio del menú: \"))\n",
        "\n",
        "dia_semana = {\n",
        "    1: \"lunes\",\n",
        "    2: \"martes\",\n",
        "    3: \"miércoles\",\n",
        "    4: \"jueves\",\n",
        "    5: \"viernes\"\n",
        "}\n",
        "\n",
        "menu_opciones = {\n",
        "    1: \"menu del día\",\n",
        "    2: \"menú infantil\",\n",
        "    3: \"menú vegetariano\",\n",
        "    4: \"menú del chef\"\n",
        "}\n",
        "\n",
        "precio_final = calcular_precio(dia_semana[opcion_dia], menu_opciones[opcion_menu], precio)\n",
        "print(\"El precio a pagar es:\", precio_final)\n"
      ],
      "metadata": {
        "colab": {
          "base_uri": "https://localhost:8080/"
        },
        "id": "6fPh5iyxjeOd",
        "outputId": "47643d4b-3bba-426e-d656-5d241d2c167d"
      },
      "execution_count": 7,
      "outputs": [
        {
          "output_type": "stream",
          "name": "stdout",
          "text": [
            "Bienvenido al restaurante!\n",
            "Días disponibles:\n",
            "1 - Lunes\n",
            "2 - Martes\n",
            "3 - Miércoles\n",
            "4 - Jueves\n",
            "5 - Viernes\n",
            "6 - Sábado\n",
            "7 - Domingo\n",
            "Seleccione el día de la semana (1-7): 1\n",
            "Menús disponibles:\n",
            "1 - Menú del día\n",
            "2 - Menú infantil\n",
            "3 - Menú vegetariano\n",
            "4 - Menú del chef\n",
            "Seleccione el tipo de menú (1-4): 1\n",
            "Ingrese el precio del menú: 200\n",
            "El precio a pagar es: 180.0\n"
          ]
        }
      ]
    }
  ]
}